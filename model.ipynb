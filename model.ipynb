{
 "cells": [
  {
   "cell_type": "code",
   "execution_count": 1,
   "id": "7d8cc438",
   "metadata": {
    "_cell_guid": "b1076dfc-b9ad-4769-8c92-a6c4dae69d19",
    "_uuid": "8f2839f25d086af736a60e9eeb907d3b93b6e0e5",
    "execution": {
     "iopub.execute_input": "2023-01-06T09:27:44.605140Z",
     "iopub.status.busy": "2023-01-06T09:27:44.604694Z",
     "iopub.status.idle": "2023-01-06T09:27:44.614700Z",
     "shell.execute_reply": "2023-01-06T09:27:44.613598Z"
    },
    "papermill": {
     "duration": 0.020448,
     "end_time": "2023-01-06T09:27:44.617274",
     "exception": false,
     "start_time": "2023-01-06T09:27:44.596826",
     "status": "completed"
    },
    "tags": []
   },
   "outputs": [],
   "source": [
    "import numpy as np # linear algebra\n",
    "import pandas as pd # data processing, CSV file I/O (e.g. pd.read_csv)\n",
    "import matplotlib.pyplot as plt\n",
    "import os"
   ]
  },
  {
   "cell_type": "code",
   "execution_count": 2,
   "id": "80b60aef",
   "metadata": {
    "execution": {
     "iopub.execute_input": "2023-01-06T09:27:44.631186Z",
     "iopub.status.busy": "2023-01-06T09:27:44.630795Z",
     "iopub.status.idle": "2023-01-06T09:27:44.636287Z",
     "shell.execute_reply": "2023-01-06T09:27:44.635283Z"
    },
    "papermill": {
     "duration": 0.014814,
     "end_time": "2023-01-06T09:27:44.638369",
     "exception": false,
     "start_time": "2023-01-06T09:27:44.623555",
     "status": "completed"
    },
    "tags": []
   },
   "outputs": [],
   "source": [
    "# getting the path of ds\n",
    "ds_dir = \"/kaggle/input/digit-recognizer\"\n",
    "samp_sub_path = os.path.join(ds_dir, \"sample_submission.csv\")\n",
    "train_path = os.path.join(ds_dir, \"train.csv\")\n",
    "test_path = os.path.join(ds_dir, \"test.csv\")"
   ]
  },
  {
   "cell_type": "code",
   "execution_count": 3,
   "id": "5240a615",
   "metadata": {
    "execution": {
     "iopub.execute_input": "2023-01-06T09:27:44.652729Z",
     "iopub.status.busy": "2023-01-06T09:27:44.652068Z",
     "iopub.status.idle": "2023-01-06T09:27:50.362052Z",
     "shell.execute_reply": "2023-01-06T09:27:50.360926Z"
    },
    "papermill": {
     "duration": 5.720951,
     "end_time": "2023-01-06T09:27:50.365441",
     "exception": false,
     "start_time": "2023-01-06T09:27:44.644490",
     "status": "completed"
    },
    "tags": []
   },
   "outputs": [
    {
     "data": {
      "text/html": [
       "<div>\n",
       "<style scoped>\n",
       "    .dataframe tbody tr th:only-of-type {\n",
       "        vertical-align: middle;\n",
       "    }\n",
       "\n",
       "    .dataframe tbody tr th {\n",
       "        vertical-align: top;\n",
       "    }\n",
       "\n",
       "    .dataframe thead th {\n",
       "        text-align: right;\n",
       "    }\n",
       "</style>\n",
       "<table border=\"1\" class=\"dataframe\">\n",
       "  <thead>\n",
       "    <tr style=\"text-align: right;\">\n",
       "      <th></th>\n",
       "      <th>label</th>\n",
       "      <th>pixel0</th>\n",
       "      <th>pixel1</th>\n",
       "      <th>pixel2</th>\n",
       "      <th>pixel3</th>\n",
       "      <th>pixel4</th>\n",
       "      <th>pixel5</th>\n",
       "      <th>pixel6</th>\n",
       "      <th>pixel7</th>\n",
       "      <th>pixel8</th>\n",
       "      <th>...</th>\n",
       "      <th>pixel774</th>\n",
       "      <th>pixel775</th>\n",
       "      <th>pixel776</th>\n",
       "      <th>pixel777</th>\n",
       "      <th>pixel778</th>\n",
       "      <th>pixel779</th>\n",
       "      <th>pixel780</th>\n",
       "      <th>pixel781</th>\n",
       "      <th>pixel782</th>\n",
       "      <th>pixel783</th>\n",
       "    </tr>\n",
       "  </thead>\n",
       "  <tbody>\n",
       "    <tr>\n",
       "      <th>0</th>\n",
       "      <td>1</td>\n",
       "      <td>0</td>\n",
       "      <td>0</td>\n",
       "      <td>0</td>\n",
       "      <td>0</td>\n",
       "      <td>0</td>\n",
       "      <td>0</td>\n",
       "      <td>0</td>\n",
       "      <td>0</td>\n",
       "      <td>0</td>\n",
       "      <td>...</td>\n",
       "      <td>0</td>\n",
       "      <td>0</td>\n",
       "      <td>0</td>\n",
       "      <td>0</td>\n",
       "      <td>0</td>\n",
       "      <td>0</td>\n",
       "      <td>0</td>\n",
       "      <td>0</td>\n",
       "      <td>0</td>\n",
       "      <td>0</td>\n",
       "    </tr>\n",
       "    <tr>\n",
       "      <th>1</th>\n",
       "      <td>0</td>\n",
       "      <td>0</td>\n",
       "      <td>0</td>\n",
       "      <td>0</td>\n",
       "      <td>0</td>\n",
       "      <td>0</td>\n",
       "      <td>0</td>\n",
       "      <td>0</td>\n",
       "      <td>0</td>\n",
       "      <td>0</td>\n",
       "      <td>...</td>\n",
       "      <td>0</td>\n",
       "      <td>0</td>\n",
       "      <td>0</td>\n",
       "      <td>0</td>\n",
       "      <td>0</td>\n",
       "      <td>0</td>\n",
       "      <td>0</td>\n",
       "      <td>0</td>\n",
       "      <td>0</td>\n",
       "      <td>0</td>\n",
       "    </tr>\n",
       "    <tr>\n",
       "      <th>2</th>\n",
       "      <td>1</td>\n",
       "      <td>0</td>\n",
       "      <td>0</td>\n",
       "      <td>0</td>\n",
       "      <td>0</td>\n",
       "      <td>0</td>\n",
       "      <td>0</td>\n",
       "      <td>0</td>\n",
       "      <td>0</td>\n",
       "      <td>0</td>\n",
       "      <td>...</td>\n",
       "      <td>0</td>\n",
       "      <td>0</td>\n",
       "      <td>0</td>\n",
       "      <td>0</td>\n",
       "      <td>0</td>\n",
       "      <td>0</td>\n",
       "      <td>0</td>\n",
       "      <td>0</td>\n",
       "      <td>0</td>\n",
       "      <td>0</td>\n",
       "    </tr>\n",
       "    <tr>\n",
       "      <th>3</th>\n",
       "      <td>4</td>\n",
       "      <td>0</td>\n",
       "      <td>0</td>\n",
       "      <td>0</td>\n",
       "      <td>0</td>\n",
       "      <td>0</td>\n",
       "      <td>0</td>\n",
       "      <td>0</td>\n",
       "      <td>0</td>\n",
       "      <td>0</td>\n",
       "      <td>...</td>\n",
       "      <td>0</td>\n",
       "      <td>0</td>\n",
       "      <td>0</td>\n",
       "      <td>0</td>\n",
       "      <td>0</td>\n",
       "      <td>0</td>\n",
       "      <td>0</td>\n",
       "      <td>0</td>\n",
       "      <td>0</td>\n",
       "      <td>0</td>\n",
       "    </tr>\n",
       "    <tr>\n",
       "      <th>4</th>\n",
       "      <td>0</td>\n",
       "      <td>0</td>\n",
       "      <td>0</td>\n",
       "      <td>0</td>\n",
       "      <td>0</td>\n",
       "      <td>0</td>\n",
       "      <td>0</td>\n",
       "      <td>0</td>\n",
       "      <td>0</td>\n",
       "      <td>0</td>\n",
       "      <td>...</td>\n",
       "      <td>0</td>\n",
       "      <td>0</td>\n",
       "      <td>0</td>\n",
       "      <td>0</td>\n",
       "      <td>0</td>\n",
       "      <td>0</td>\n",
       "      <td>0</td>\n",
       "      <td>0</td>\n",
       "      <td>0</td>\n",
       "      <td>0</td>\n",
       "    </tr>\n",
       "  </tbody>\n",
       "</table>\n",
       "<p>5 rows × 785 columns</p>\n",
       "</div>"
      ],
      "text/plain": [
       "   label  pixel0  pixel1  pixel2  pixel3  pixel4  pixel5  pixel6  pixel7  \\\n",
       "0      1       0       0       0       0       0       0       0       0   \n",
       "1      0       0       0       0       0       0       0       0       0   \n",
       "2      1       0       0       0       0       0       0       0       0   \n",
       "3      4       0       0       0       0       0       0       0       0   \n",
       "4      0       0       0       0       0       0       0       0       0   \n",
       "\n",
       "   pixel8  ...  pixel774  pixel775  pixel776  pixel777  pixel778  pixel779  \\\n",
       "0       0  ...         0         0         0         0         0         0   \n",
       "1       0  ...         0         0         0         0         0         0   \n",
       "2       0  ...         0         0         0         0         0         0   \n",
       "3       0  ...         0         0         0         0         0         0   \n",
       "4       0  ...         0         0         0         0         0         0   \n",
       "\n",
       "   pixel780  pixel781  pixel782  pixel783  \n",
       "0         0         0         0         0  \n",
       "1         0         0         0         0  \n",
       "2         0         0         0         0  \n",
       "3         0         0         0         0  \n",
       "4         0         0         0         0  \n",
       "\n",
       "[5 rows x 785 columns]"
      ]
     },
     "execution_count": 3,
     "metadata": {},
     "output_type": "execute_result"
    }
   ],
   "source": [
    "# reading the ds\n",
    "train_df = pd.read_csv(train_path)\n",
    "test_df = pd.read_csv(test_path)\n",
    "train_df.head()"
   ]
  },
  {
   "cell_type": "code",
   "execution_count": 4,
   "id": "52df2b51",
   "metadata": {
    "execution": {
     "iopub.execute_input": "2023-01-06T09:27:50.380821Z",
     "iopub.status.busy": "2023-01-06T09:27:50.380411Z",
     "iopub.status.idle": "2023-01-06T09:27:50.387024Z",
     "shell.execute_reply": "2023-01-06T09:27:50.385994Z"
    },
    "papermill": {
     "duration": 0.017387,
     "end_time": "2023-01-06T09:27:50.389387",
     "exception": false,
     "start_time": "2023-01-06T09:27:50.372000",
     "status": "completed"
    },
    "tags": []
   },
   "outputs": [
    {
     "data": {
      "text/plain": [
       "(28000, 784)"
      ]
     },
     "execution_count": 4,
     "metadata": {},
     "output_type": "execute_result"
    }
   ],
   "source": [
    "test_df.shape"
   ]
  },
  {
   "cell_type": "code",
   "execution_count": 5,
   "id": "a3d02fbf",
   "metadata": {
    "execution": {
     "iopub.execute_input": "2023-01-06T09:27:50.404208Z",
     "iopub.status.busy": "2023-01-06T09:27:50.403819Z",
     "iopub.status.idle": "2023-01-06T09:27:50.410567Z",
     "shell.execute_reply": "2023-01-06T09:27:50.409421Z"
    },
    "papermill": {
     "duration": 0.016776,
     "end_time": "2023-01-06T09:27:50.412842",
     "exception": false,
     "start_time": "2023-01-06T09:27:50.396066",
     "status": "completed"
    },
    "tags": []
   },
   "outputs": [
    {
     "data": {
      "text/plain": [
       "42000"
      ]
     },
     "execution_count": 5,
     "metadata": {},
     "output_type": "execute_result"
    }
   ],
   "source": [
    "# total number of training exps\n",
    "total_training_exps = train_df.shape[0]\n",
    "total_training_exps"
   ]
  },
  {
   "cell_type": "code",
   "execution_count": 6,
   "id": "d0deb4ae",
   "metadata": {
    "execution": {
     "iopub.execute_input": "2023-01-06T09:27:50.428044Z",
     "iopub.status.busy": "2023-01-06T09:27:50.427624Z",
     "iopub.status.idle": "2023-01-06T09:27:50.480574Z",
     "shell.execute_reply": "2023-01-06T09:27:50.479380Z"
    },
    "papermill": {
     "duration": 0.06299,
     "end_time": "2023-01-06T09:27:50.482829",
     "exception": false,
     "start_time": "2023-01-06T09:27:50.419839",
     "status": "completed"
    },
    "tags": []
   },
   "outputs": [
    {
     "data": {
      "text/plain": [
       "label       0\n",
       "pixel0      0\n",
       "pixel1      0\n",
       "pixel2      0\n",
       "pixel3      0\n",
       "           ..\n",
       "pixel779    0\n",
       "pixel780    0\n",
       "pixel781    0\n",
       "pixel782    0\n",
       "pixel783    0\n",
       "Length: 785, dtype: int64"
      ]
     },
     "execution_count": 6,
     "metadata": {},
     "output_type": "execute_result"
    }
   ],
   "source": [
    "# checking in null in each column\n",
    "train_df.isnull().sum()"
   ]
  },
  {
   "cell_type": "code",
   "execution_count": 7,
   "id": "df43529f",
   "metadata": {
    "execution": {
     "iopub.execute_input": "2023-01-06T09:27:50.499491Z",
     "iopub.status.busy": "2023-01-06T09:27:50.499085Z",
     "iopub.status.idle": "2023-01-06T09:27:50.744027Z",
     "shell.execute_reply": "2023-01-06T09:27:50.742897Z"
    },
    "papermill": {
     "duration": 0.256674,
     "end_time": "2023-01-06T09:27:50.746247",
     "exception": false,
     "start_time": "2023-01-06T09:27:50.489573",
     "status": "completed"
    },
    "tags": []
   },
   "outputs": [
    {
     "data": {
      "text/plain": [
       "<matplotlib.image.AxesImage at 0x7f5fc0fb7710>"
      ]
     },
     "execution_count": 7,
     "metadata": {},
     "output_type": "execute_result"
    },
    {
     "data": {
      "image/png": "[encoded data removed]",
      "text/plain": [
       "<Figure size 432x288 with 1 Axes>"
      ]
     },
     "metadata": {
      "needs_background": "light"
     },
     "output_type": "display_data"
    }
   ],
   "source": [
    "# getting the input pixel into array format and converted into array batch format\n",
    "X = train_df.iloc[:,  1:].values.reshape(-1, 28, 28, 1)\n",
    "# getting the labels from train dataframe\n",
    "y = train_df['label'].values\n",
    "# ploting the first example into gray color format\n",
    "plt.imshow(X[0], cmap='gray')"
   ]
  },
  {
   "cell_type": "code",
   "execution_count": 8,
   "id": "34709851",
   "metadata": {
    "execution": {
     "iopub.execute_input": "2023-01-06T09:27:50.762023Z",
     "iopub.status.busy": "2023-01-06T09:27:50.761607Z",
     "iopub.status.idle": "2023-01-06T09:27:53.173740Z",
     "shell.execute_reply": "2023-01-06T09:27:53.172595Z"
    },
    "papermill": {
     "duration": 2.422963,
     "end_time": "2023-01-06T09:27:53.176256",
     "exception": false,
     "start_time": "2023-01-06T09:27:50.753293",
     "status": "completed"
    },
    "tags": []
   },
   "outputs": [
    {
     "data": {
      "text/html": [
       "<div>\n",
       "<style scoped>\n",
       "    .dataframe tbody tr th:only-of-type {\n",
       "        vertical-align: middle;\n",
       "    }\n",
       "\n",
       "    .dataframe tbody tr th {\n",
       "        vertical-align: top;\n",
       "    }\n",
       "\n",
       "    .dataframe thead th {\n",
       "        text-align: right;\n",
       "    }\n",
       "</style>\n",
       "<table border=\"1\" class=\"dataframe\">\n",
       "  <thead>\n",
       "    <tr style=\"text-align: right;\">\n",
       "      <th></th>\n",
       "      <th>label</th>\n",
       "      <th>pixel0</th>\n",
       "      <th>pixel1</th>\n",
       "      <th>pixel2</th>\n",
       "      <th>pixel3</th>\n",
       "      <th>pixel4</th>\n",
       "      <th>pixel5</th>\n",
       "      <th>pixel6</th>\n",
       "      <th>pixel7</th>\n",
       "      <th>pixel8</th>\n",
       "      <th>...</th>\n",
       "      <th>pixel774</th>\n",
       "      <th>pixel775</th>\n",
       "      <th>pixel776</th>\n",
       "      <th>pixel777</th>\n",
       "      <th>pixel778</th>\n",
       "      <th>pixel779</th>\n",
       "      <th>pixel780</th>\n",
       "      <th>pixel781</th>\n",
       "      <th>pixel782</th>\n",
       "      <th>pixel783</th>\n",
       "    </tr>\n",
       "  </thead>\n",
       "  <tbody>\n",
       "    <tr>\n",
       "      <th>count</th>\n",
       "      <td>42000.000000</td>\n",
       "      <td>42000.0</td>\n",
       "      <td>42000.0</td>\n",
       "      <td>42000.0</td>\n",
       "      <td>42000.0</td>\n",
       "      <td>42000.0</td>\n",
       "      <td>42000.0</td>\n",
       "      <td>42000.0</td>\n",
       "      <td>42000.0</td>\n",
       "      <td>42000.0</td>\n",
       "      <td>...</td>\n",
       "      <td>42000.000000</td>\n",
       "      <td>42000.000000</td>\n",
       "      <td>42000.000000</td>\n",
       "      <td>42000.00000</td>\n",
       "      <td>42000.000000</td>\n",
       "      <td>42000.000000</td>\n",
       "      <td>42000.0</td>\n",
       "      <td>42000.0</td>\n",
       "      <td>42000.0</td>\n",
       "      <td>42000.0</td>\n",
       "    </tr>\n",
       "    <tr>\n",
       "      <th>mean</th>\n",
       "      <td>4.456643</td>\n",
       "      <td>0.0</td>\n",
       "      <td>0.0</td>\n",
       "      <td>0.0</td>\n",
       "      <td>0.0</td>\n",
       "      <td>0.0</td>\n",
       "      <td>0.0</td>\n",
       "      <td>0.0</td>\n",
       "      <td>0.0</td>\n",
       "      <td>0.0</td>\n",
       "      <td>...</td>\n",
       "      <td>0.219286</td>\n",
       "      <td>0.117095</td>\n",
       "      <td>0.059024</td>\n",
       "      <td>0.02019</td>\n",
       "      <td>0.017238</td>\n",
       "      <td>0.002857</td>\n",
       "      <td>0.0</td>\n",
       "      <td>0.0</td>\n",
       "      <td>0.0</td>\n",
       "      <td>0.0</td>\n",
       "    </tr>\n",
       "    <tr>\n",
       "      <th>std</th>\n",
       "      <td>2.887730</td>\n",
       "      <td>0.0</td>\n",
       "      <td>0.0</td>\n",
       "      <td>0.0</td>\n",
       "      <td>0.0</td>\n",
       "      <td>0.0</td>\n",
       "      <td>0.0</td>\n",
       "      <td>0.0</td>\n",
       "      <td>0.0</td>\n",
       "      <td>0.0</td>\n",
       "      <td>...</td>\n",
       "      <td>6.312890</td>\n",
       "      <td>4.633819</td>\n",
       "      <td>3.274488</td>\n",
       "      <td>1.75987</td>\n",
       "      <td>1.894498</td>\n",
       "      <td>0.414264</td>\n",
       "      <td>0.0</td>\n",
       "      <td>0.0</td>\n",
       "      <td>0.0</td>\n",
       "      <td>0.0</td>\n",
       "    </tr>\n",
       "    <tr>\n",
       "      <th>min</th>\n",
       "      <td>0.000000</td>\n",
       "      <td>0.0</td>\n",
       "      <td>0.0</td>\n",
       "      <td>0.0</td>\n",
       "      <td>0.0</td>\n",
       "      <td>0.0</td>\n",
       "      <td>0.0</td>\n",
       "      <td>0.0</td>\n",
       "      <td>0.0</td>\n",
       "      <td>0.0</td>\n",
       "      <td>...</td>\n",
       "      <td>0.000000</td>\n",
       "      <td>0.000000</td>\n",
       "      <td>0.000000</td>\n",
       "      <td>0.00000</td>\n",
       "      <td>0.000000</td>\n",
       "      <td>0.000000</td>\n",
       "      <td>0.0</td>\n",
       "      <td>0.0</td>\n",
       "      <td>0.0</td>\n",
       "      <td>0.0</td>\n",
       "    </tr>\n",
       "    <tr>\n",
       "      <th>25%</th>\n",
       "      <td>2.000000</td>\n",
       "      <td>0.0</td>\n",
       "      <td>0.0</td>\n",
       "      <td>0.0</td>\n",
       "      <td>0.0</td>\n",
       "      <td>0.0</td>\n",
       "      <td>0.0</td>\n",
       "      <td>0.0</td>\n",
       "      <td>0.0</td>\n",
       "      <td>0.0</td>\n",
       "      <td>...</td>\n",
       "      <td>0.000000</td>\n",
       "      <td>0.000000</td>\n",
       "      <td>0.000000</td>\n",
       "      <td>0.00000</td>\n",
       "      <td>0.000000</td>\n",
       "      <td>0.000000</td>\n",
       "      <td>0.0</td>\n",
       "      <td>0.0</td>\n",
       "      <td>0.0</td>\n",
       "      <td>0.0</td>\n",
       "    </tr>\n",
       "    <tr>\n",
       "      <th>50%</th>\n",
       "      <td>4.000000</td>\n",
       "      <td>0.0</td>\n",
       "      <td>0.0</td>\n",
       "      <td>0.0</td>\n",
       "      <td>0.0</td>\n",
       "      <td>0.0</td>\n",
       "      <td>0.0</td>\n",
       "      <td>0.0</td>\n",
       "      <td>0.0</td>\n",
       "      <td>0.0</td>\n",
       "      <td>...</td>\n",
       "      <td>0.000000</td>\n",
       "      <td>0.000000</td>\n",
       "      <td>0.000000</td>\n",
       "      <td>0.00000</td>\n",
       "      <td>0.000000</td>\n",
       "      <td>0.000000</td>\n",
       "      <td>0.0</td>\n",
       "      <td>0.0</td>\n",
       "      <td>0.0</td>\n",
       "      <td>0.0</td>\n",
       "    </tr>\n",
       "    <tr>\n",
       "      <th>75%</th>\n",
       "      <td>7.000000</td>\n",
       "      <td>0.0</td>\n",
       "      <td>0.0</td>\n",
       "      <td>0.0</td>\n",
       "      <td>0.0</td>\n",
       "      <td>0.0</td>\n",
       "      <td>0.0</td>\n",
       "      <td>0.0</td>\n",
       "      <td>0.0</td>\n",
       "      <td>0.0</td>\n",
       "      <td>...</td>\n",
       "      <td>0.000000</td>\n",
       "      <td>0.000000</td>\n",
       "      <td>0.000000</td>\n",
       "      <td>0.00000</td>\n",
       "      <td>0.000000</td>\n",
       "      <td>0.000000</td>\n",
       "      <td>0.0</td>\n",
       "      <td>0.0</td>\n",
       "      <td>0.0</td>\n",
       "      <td>0.0</td>\n",
       "    </tr>\n",
       "    <tr>\n",
       "      <th>max</th>\n",
       "      <td>9.000000</td>\n",
       "      <td>0.0</td>\n",
       "      <td>0.0</td>\n",
       "      <td>0.0</td>\n",
       "      <td>0.0</td>\n",
       "      <td>0.0</td>\n",
       "      <td>0.0</td>\n",
       "      <td>0.0</td>\n",
       "      <td>0.0</td>\n",
       "      <td>0.0</td>\n",
       "      <td>...</td>\n",
       "      <td>254.000000</td>\n",
       "      <td>254.000000</td>\n",
       "      <td>253.000000</td>\n",
       "      <td>253.00000</td>\n",
       "      <td>254.000000</td>\n",
       "      <td>62.000000</td>\n",
       "      <td>0.0</td>\n",
       "      <td>0.0</td>\n",
       "      <td>0.0</td>\n",
       "      <td>0.0</td>\n",
       "    </tr>\n",
       "  </tbody>\n",
       "</table>\n",
       "<p>8 rows × 785 columns</p>\n",
       "</div>"
      ],
      "text/plain": [
       "              label   pixel0   pixel1   pixel2   pixel3   pixel4   pixel5  \\\n",
       "count  42000.000000  42000.0  42000.0  42000.0  42000.0  42000.0  42000.0   \n",
       "mean       4.456643      0.0      0.0      0.0      0.0      0.0      0.0   \n",
       "std        2.887730      0.0      0.0      0.0      0.0      0.0      0.0   \n",
       "min        0.000000      0.0      0.0      0.0      0.0      0.0      0.0   \n",
       "25%        2.000000      0.0      0.0      0.0      0.0      0.0      0.0   \n",
       "50%        4.000000      0.0      0.0      0.0      0.0      0.0      0.0   \n",
       "75%        7.000000      0.0      0.0      0.0      0.0      0.0      0.0   \n",
       "max        9.000000      0.0      0.0      0.0      0.0      0.0      0.0   \n",
       "\n",
       "        pixel6   pixel7   pixel8  ...      pixel774      pixel775  \\\n",
       "count  42000.0  42000.0  42000.0  ...  42000.000000  42000.000000   \n",
       "mean       0.0      0.0      0.0  ...      0.219286      0.117095   \n",
       "std        0.0      0.0      0.0  ...      6.312890      4.633819   \n",
       "min        0.0      0.0      0.0  ...      0.000000      0.000000   \n",
       "25%        0.0      0.0      0.0  ...      0.000000      0.000000   \n",
       "50%        0.0      0.0      0.0  ...      0.000000      0.000000   \n",
       "75%        0.0      0.0      0.0  ...      0.000000      0.000000   \n",
       "max        0.0      0.0      0.0  ...    254.000000    254.000000   \n",
       "\n",
       "           pixel776     pixel777      pixel778      pixel779  pixel780  \\\n",
       "count  42000.000000  42000.00000  42000.000000  42000.000000   42000.0   \n",
       "mean       0.059024      0.02019      0.017238      0.002857       0.0   \n",
       "std        3.274488      1.75987      1.894498      0.414264       0.0   \n",
       "min        0.000000      0.00000      0.000000      0.000000       0.0   \n",
       "25%        0.000000      0.00000      0.000000      0.000000       0.0   \n",
       "50%        0.000000      0.00000      0.000000      0.000000       0.0   \n",
       "75%        0.000000      0.00000      0.000000      0.000000       0.0   \n",
       "max      253.000000    253.00000    254.000000     62.000000       0.0   \n",
       "\n",
       "       pixel781  pixel782  pixel783  \n",
       "count   42000.0   42000.0   42000.0  \n",
       "mean        0.0       0.0       0.0  \n",
       "std         0.0       0.0       0.0  \n",
       "min         0.0       0.0       0.0  \n",
       "25%         0.0       0.0       0.0  \n",
       "50%         0.0       0.0       0.0  \n",
       "75%         0.0       0.0       0.0  \n",
       "max         0.0       0.0       0.0  \n",
       "\n",
       "[8 rows x 785 columns]"
      ]
     },
     "execution_count": 8,
     "metadata": {},
     "output_type": "execute_result"
    }
   ],
   "source": [
    "train_df.describe()\n",
    "# max value of pixel is 255 and min = 0 so need to normalize "
   ]
  },
  {
   "cell_type": "code",
   "execution_count": 9,
   "id": "4035af4f",
   "metadata": {
    "execution": {
     "iopub.execute_input": "2023-01-06T09:27:53.195168Z",
     "iopub.status.busy": "2023-01-06T09:27:53.192948Z",
     "iopub.status.idle": "2023-01-06T09:27:54.829090Z",
     "shell.execute_reply": "2023-01-06T09:27:54.828084Z"
    },
    "papermill": {
     "duration": 1.648086,
     "end_time": "2023-01-06T09:27:54.831742",
     "exception": false,
     "start_time": "2023-01-06T09:27:53.183656",
     "status": "completed"
    },
    "tags": []
   },
   "outputs": [],
   "source": [
    "# splitting tthe dataset into training and test part and normalize the dataset\n",
    "from sklearn.model_selection import train_test_split\n",
    "X_train, X_test, y_train, y_test = train_test_split(X, y, test_size=0.10, random_state=42)\n",
    "X_train_norm = X_train/255.0\n",
    "X_test_norm = X_test/255.0"
   ]
  },
  {
   "cell_type": "code",
   "execution_count": 10,
   "id": "3aae80fc",
   "metadata": {
    "execution": {
     "iopub.execute_input": "2023-01-06T09:27:54.851652Z",
     "iopub.status.busy": "2023-01-06T09:27:54.848879Z",
     "iopub.status.idle": "2023-01-06T09:27:54.859565Z",
     "shell.execute_reply": "2023-01-06T09:27:54.858564Z"
    },
    "papermill": {
     "duration": 0.022794,
     "end_time": "2023-01-06T09:27:54.862892",
     "exception": false,
     "start_time": "2023-01-06T09:27:54.840098",
     "status": "completed"
    },
    "tags": []
   },
   "outputs": [
    {
     "data": {
      "text/plain": [
       "(37800, 28, 28, 1)"
      ]
     },
     "execution_count": 10,
     "metadata": {},
     "output_type": "execute_result"
    }
   ],
   "source": [
    "y_train.shape\n",
    "X_train.shape"
   ]
  },
  {
   "cell_type": "code",
   "execution_count": 11,
   "id": "645769e2",
   "metadata": {
    "execution": {
     "iopub.execute_input": "2023-01-06T09:27:54.883731Z",
     "iopub.status.busy": "2023-01-06T09:27:54.883302Z",
     "iopub.status.idle": "2023-01-06T09:27:54.891813Z",
     "shell.execute_reply": "2023-01-06T09:27:54.890923Z"
    },
    "papermill": {
     "duration": 0.022516,
     "end_time": "2023-01-06T09:27:54.895328",
     "exception": false,
     "start_time": "2023-01-06T09:27:54.872812",
     "status": "completed"
    },
    "tags": []
   },
   "outputs": [
    {
     "data": {
      "text/plain": [
       "1    4684\n",
       "7    4401\n",
       "3    4351\n",
       "9    4188\n",
       "2    4177\n",
       "6    4137\n",
       "0    4132\n",
       "4    4072\n",
       "8    4063\n",
       "5    3795\n",
       "Name: label, dtype: int64"
      ]
     },
     "execution_count": 11,
     "metadata": {},
     "output_type": "execute_result"
    }
   ],
   "source": [
    "# counting the uniques in label columns of train_df\n",
    "\n",
    "train_df['label'].value_counts()"
   ]
  },
  {
   "cell_type": "code",
   "execution_count": 12,
   "id": "784d2826",
   "metadata": {
    "execution": {
     "iopub.execute_input": "2023-01-06T09:27:54.920559Z",
     "iopub.status.busy": "2023-01-06T09:27:54.919791Z",
     "iopub.status.idle": "2023-01-06T09:27:55.170823Z",
     "shell.execute_reply": "2023-01-06T09:27:55.169709Z"
    },
    "papermill": {
     "duration": 0.265857,
     "end_time": "2023-01-06T09:27:55.173161",
     "exception": false,
     "start_time": "2023-01-06T09:27:54.907304",
     "status": "completed"
    },
    "tags": []
   },
   "outputs": [
    {
     "data": {
      "text/plain": [
       "<AxesSubplot:>"
      ]
     },
     "execution_count": 12,
     "metadata": {},
     "output_type": "execute_result"
    },
    {
     "data": {
      "image/png": "[encoded data removed]",
      "text/plain": [
       "<Figure size 432x288 with 1 Axes>"
      ]
     },
     "metadata": {
      "needs_background": "light"
     },
     "output_type": "display_data"
    }
   ],
   "source": [
    "train_df['label'].value_counts().plot(kind='bar')"
   ]
  },
  {
   "cell_type": "code",
   "execution_count": 13,
   "id": "f1e3d2b4",
   "metadata": {
    "execution": {
     "iopub.execute_input": "2023-01-06T09:27:55.191816Z",
     "iopub.status.busy": "2023-01-06T09:27:55.190765Z",
     "iopub.status.idle": "2023-01-06T09:27:55.202600Z",
     "shell.execute_reply": "2023-01-06T09:27:55.201353Z"
    },
    "papermill": {
     "duration": 0.023511,
     "end_time": "2023-01-06T09:27:55.204842",
     "exception": false,
     "start_time": "2023-01-06T09:27:55.181331",
     "status": "completed"
    },
    "tags": []
   },
   "outputs": [
    {
     "data": {
      "text/plain": [
       "array([1, 0, 4, 7, 3, 5, 8, 9, 2, 6])"
      ]
     },
     "execution_count": 13,
     "metadata": {},
     "output_type": "execute_result"
    }
   ],
   "source": [
    "# digits in dataset\n",
    "train_df['label'].unique()"
   ]
  },
  {
   "cell_type": "markdown",
   "id": "d8057b23",
   "metadata": {
    "papermill": {
     "duration": 0.007964,
     "end_time": "2023-01-06T09:27:55.221167",
     "exception": false,
     "start_time": "2023-01-06T09:27:55.213203",
     "status": "completed"
    },
    "tags": []
   },
   "source": [
    "# Classification using Convolution Neural Network\n",
    "1. create the model architecture \n",
    "2. compile the model\n",
    "3. fit the dataset on CNN model."
   ]
  },
  {
   "cell_type": "code",
   "execution_count": 14,
   "id": "8cc95778",
   "metadata": {
    "execution": {
     "iopub.execute_input": "2023-01-06T09:27:55.245586Z",
     "iopub.status.busy": "2023-01-06T09:27:55.244985Z",
     "iopub.status.idle": "2023-01-06T09:28:02.170004Z",
     "shell.execute_reply": "2023-01-06T09:28:02.168868Z"
    },
    "papermill": {
     "duration": 6.940986,
     "end_time": "2023-01-06T09:28:02.172720",
     "exception": false,
     "start_time": "2023-01-06T09:27:55.231734",
     "status": "completed"
    },
    "tags": []
   },
   "outputs": [],
   "source": [
    "import tensorflow as tf\n",
    "from tensorflow.keras import Sequential\n",
    "from tensorflow.keras import layers"
   ]
  },
  {
   "cell_type": "code",
   "execution_count": 15,
   "id": "2207e3b1",
   "metadata": {
    "execution": {
     "iopub.execute_input": "2023-01-06T09:28:02.191928Z",
     "iopub.status.busy": "2023-01-06T09:28:02.191200Z",
     "iopub.status.idle": "2023-01-06T09:28:02.377449Z",
     "shell.execute_reply": "2023-01-06T09:28:02.376133Z"
    },
    "papermill": {
     "duration": 0.200368,
     "end_time": "2023-01-06T09:28:02.381772",
     "exception": false,
     "start_time": "2023-01-06T09:28:02.181404",
     "status": "completed"
    },
    "tags": []
   },
   "outputs": [
    {
     "name": "stdout",
     "output_type": "stream",
     "text": [
      "Model: \"sequential\"\n",
      "_________________________________________________________________\n",
      "Layer (type)                 Output Shape              Param #   \n",
      "=================================================================\n",
      "conv2d (Conv2D)              (None, 26, 26, 8)         80        \n",
      "_________________________________________________________________\n",
      "max_pooling2d (MaxPooling2D) (None, 13, 13, 8)         0         \n",
      "_________________________________________________________________\n",
      "conv2d_1 (Conv2D)            (None, 12, 12, 10)        330       \n",
      "_________________________________________________________________\n",
      "max_pooling2d_1 (MaxPooling2 (None, 6, 6, 10)          0         \n",
      "_________________________________________________________________\n",
      "flatten (Flatten)            (None, 360)               0         \n",
      "_________________________________________________________________\n",
      "dense (Dense)                (None, 64)                23104     \n",
      "_________________________________________________________________\n",
      "dense_1 (Dense)              (None, 32)                2080      \n",
      "_________________________________________________________________\n",
      "dense_2 (Dense)              (None, 16)                528       \n",
      "_________________________________________________________________\n",
      "dense_3 (Dense)              (None, 10)                170       \n",
      "=================================================================\n",
      "Total params: 26,292\n",
      "Trainable params: 26,292\n",
      "Non-trainable params: 0\n",
      "_________________________________________________________________\n"
     ]
    },
    {
     "name": "stderr",
     "output_type": "stream",
     "text": [
      "2023-01-06 09:28:02.241794: I tensorflow/core/common_runtime/process_util.cc:146] Creating new thread pool with default inter op setting: 2. Tune using inter_op_parallelism_threads for best performance.\n"
     ]
    }
   ],
   "source": [
    "# model architecture\n",
    "model = Sequential()\n",
    "model.add(layers.Conv2D(8, (3, 3), activation='relu', input_shape=(28, 28, 1)))\n",
    "model.add(layers.MaxPooling2D(2, 2))\n",
    "\n",
    "model.add(layers.Conv2D(10, (2, 2), activation='relu'))\n",
    "model.add(layers.MaxPooling2D(2,2))\n",
    "\n",
    "model.add(layers.Flatten())\n",
    "model.add(layers.Dense(64, activation='relu'))\n",
    "model.add(layers.Dense(32, activation='relu'))\n",
    "model.add(layers.Dense(16, activation='relu'))\n",
    "\n",
    "model.add(layers.Dense(10, activation='softmax'))\n",
    "model.summary()"
   ]
  },
  {
   "cell_type": "code",
   "execution_count": 16,
   "id": "50010fff",
   "metadata": {
    "execution": {
     "iopub.execute_input": "2023-01-06T09:28:02.400394Z",
     "iopub.status.busy": "2023-01-06T09:28:02.400021Z",
     "iopub.status.idle": "2023-01-06T09:28:02.407070Z",
     "shell.execute_reply": "2023-01-06T09:28:02.405904Z"
    },
    "papermill": {
     "duration": 0.019043,
     "end_time": "2023-01-06T09:28:02.409217",
     "exception": false,
     "start_time": "2023-01-06T09:28:02.390174",
     "status": "completed"
    },
    "tags": []
   },
   "outputs": [
    {
     "data": {
      "text/plain": [
       "(4200, 28, 28, 1)"
      ]
     },
     "execution_count": 16,
     "metadata": {},
     "output_type": "execute_result"
    }
   ],
   "source": [
    "X_test.shape"
   ]
  },
  {
   "cell_type": "code",
   "execution_count": 17,
   "id": "4dbf7e65",
   "metadata": {
    "execution": {
     "iopub.execute_input": "2023-01-06T09:28:02.427968Z",
     "iopub.status.busy": "2023-01-06T09:28:02.427254Z",
     "iopub.status.idle": "2023-01-06T09:29:45.492460Z",
     "shell.execute_reply": "2023-01-06T09:29:45.491163Z"
    },
    "papermill": {
     "duration": 103.077334,
     "end_time": "2023-01-06T09:29:45.495102",
     "exception": false,
     "start_time": "2023-01-06T09:28:02.417768",
     "status": "completed"
    },
    "tags": []
   },
   "outputs": [
    {
     "name": "stderr",
     "output_type": "stream",
     "text": [
      "2023-01-06 09:28:02.759826: I tensorflow/compiler/mlir/mlir_graph_optimization_pass.cc:185] None of the MLIR Optimization Passes are enabled (registered 2)\n",
      "/opt/conda/lib/python3.7/site-packages/keras/backend.py:4907: UserWarning: \"`sparse_categorical_crossentropy` received `from_logits=True`, but the `output` argument was produced by a sigmoid or softmax activation and thus does not represent logits. Was this intended?\"\n",
      "  '\"`sparse_categorical_crossentropy` received `from_logits=True`, but '\n"
     ]
    },
    {
     "name": "stdout",
     "output_type": "stream",
     "text": [
      "Epoch 1/15\n",
      "1182/1182 [==============================] - 8s 6ms/step - loss: 0.5533 - accuracy: 0.8551 - val_loss: 0.1961 - val_accuracy: 0.9438\n",
      "Epoch 2/15\n",
      "1182/1182 [==============================] - 7s 6ms/step - loss: 0.1373 - accuracy: 0.9590 - val_loss: 0.1325 - val_accuracy: 0.9629\n",
      "Epoch 3/15\n",
      "1182/1182 [==============================] - 7s 6ms/step - loss: 0.0918 - accuracy: 0.9721 - val_loss: 0.1087 - val_accuracy: 0.9674\n",
      "Epoch 4/15\n",
      "1182/1182 [==============================] - 8s 6ms/step - loss: 0.0737 - accuracy: 0.9780 - val_loss: 0.1010 - val_accuracy: 0.9714\n",
      "Epoch 5/15\n",
      "1182/1182 [==============================] - 7s 6ms/step - loss: 0.0608 - accuracy: 0.9812 - val_loss: 0.0876 - val_accuracy: 0.9733\n",
      "Epoch 6/15\n",
      "1182/1182 [==============================] - 7s 6ms/step - loss: 0.0499 - accuracy: 0.9843 - val_loss: 0.0845 - val_accuracy: 0.9736\n",
      "Epoch 7/15\n",
      "1182/1182 [==============================] - 6s 5ms/step - loss: 0.0424 - accuracy: 0.9870 - val_loss: 0.0854 - val_accuracy: 0.9767\n",
      "Epoch 8/15\n",
      "1182/1182 [==============================] - 7s 6ms/step - loss: 0.0423 - accuracy: 0.9868 - val_loss: 0.0851 - val_accuracy: 0.9712\n",
      "Epoch 9/15\n",
      "1182/1182 [==============================] - 7s 6ms/step - loss: 0.0349 - accuracy: 0.9890 - val_loss: 0.1199 - val_accuracy: 0.9683\n",
      "Epoch 10/15\n",
      "1182/1182 [==============================] - 7s 6ms/step - loss: 0.0281 - accuracy: 0.9909 - val_loss: 0.0835 - val_accuracy: 0.9786\n",
      "Epoch 11/15\n",
      "1182/1182 [==============================] - 7s 6ms/step - loss: 0.0293 - accuracy: 0.9905 - val_loss: 0.0729 - val_accuracy: 0.9810\n",
      "Epoch 12/15\n",
      "1182/1182 [==============================] - 6s 5ms/step - loss: 0.0259 - accuracy: 0.9918 - val_loss: 0.0958 - val_accuracy: 0.9793\n",
      "Epoch 13/15\n",
      "1182/1182 [==============================] - 7s 6ms/step - loss: 0.0212 - accuracy: 0.9937 - val_loss: 0.0863 - val_accuracy: 0.9767\n",
      "Epoch 14/15\n",
      "1182/1182 [==============================] - 7s 6ms/step - loss: 0.0220 - accuracy: 0.9932 - val_loss: 0.0918 - val_accuracy: 0.9788\n",
      "Epoch 15/15\n",
      "1182/1182 [==============================] - 7s 6ms/step - loss: 0.0223 - accuracy: 0.9929 - val_loss: 0.0819 - val_accuracy: 0.9814\n"
     ]
    }
   ],
   "source": [
    "model.compile(optimizer='adam',\n",
    "              loss=tf.keras.losses.SparseCategoricalCrossentropy(from_logits=True),\n",
    "              metrics=['accuracy'])\n",
    "\n",
    "history = model.fit(X_train, y_train, epochs=15, \n",
    "                    validation_data=(X_test, y_test))\n"
   ]
  },
  {
   "cell_type": "code",
   "execution_count": 18,
   "id": "77d4656f",
   "metadata": {
    "execution": {
     "iopub.execute_input": "2023-01-06T09:29:45.740423Z",
     "iopub.status.busy": "2023-01-06T09:29:45.739307Z",
     "iopub.status.idle": "2023-01-06T09:29:46.111000Z",
     "shell.execute_reply": "2023-01-06T09:29:46.109587Z"
    },
    "papermill": {
     "duration": 0.496549,
     "end_time": "2023-01-06T09:29:46.113258",
     "exception": false,
     "start_time": "2023-01-06T09:29:45.616709",
     "status": "completed"
    },
    "tags": []
   },
   "outputs": [
    {
     "name": "stdout",
     "output_type": "stream",
     "text": [
      "132/132 - 0s - loss: 0.0819 - accuracy: 0.9814\n"
     ]
    },
    {
     "data": {
      "text/plain": [
       "[0.08185943961143494, 0.9814285635948181]"
      ]
     },
     "execution_count": 18,
     "metadata": {},
     "output_type": "execute_result"
    }
   ],
   "source": [
    "model.evaluate(X_test, \n",
    "               y_test, \n",
    "               verbose=2\n",
    "              )"
   ]
  },
  {
   "cell_type": "code",
   "execution_count": 19,
   "id": "d9dbabe2",
   "metadata": {
    "execution": {
     "iopub.execute_input": "2023-01-06T09:29:46.359753Z",
     "iopub.status.busy": "2023-01-06T09:29:46.359159Z",
     "iopub.status.idle": "2023-01-06T09:29:46.366529Z",
     "shell.execute_reply": "2023-01-06T09:29:46.365386Z"
    },
    "papermill": {
     "duration": 0.132504,
     "end_time": "2023-01-06T09:29:46.368862",
     "exception": false,
     "start_time": "2023-01-06T09:29:46.236358",
     "status": "completed"
    },
    "tags": []
   },
   "outputs": [
    {
     "data": {
      "text/plain": [
       "(28000, 784)"
      ]
     },
     "execution_count": 19,
     "metadata": {},
     "output_type": "execute_result"
    }
   ],
   "source": [
    "test_df.shape"
   ]
  },
  {
   "cell_type": "code",
   "execution_count": 20,
   "id": "d37a3bc3",
   "metadata": {
    "execution": {
     "iopub.execute_input": "2023-01-06T09:29:46.613098Z",
     "iopub.status.busy": "2023-01-06T09:29:46.612686Z",
     "iopub.status.idle": "2023-01-06T09:29:46.831730Z",
     "shell.execute_reply": "2023-01-06T09:29:46.830635Z"
    },
    "papermill": {
     "duration": 0.345448,
     "end_time": "2023-01-06T09:29:46.834336",
     "exception": false,
     "start_time": "2023-01-06T09:29:46.488888",
     "status": "completed"
    },
    "tags": []
   },
   "outputs": [
    {
     "data": {
      "text/plain": [
       "<matplotlib.image.AxesImage at 0x7f5f04d9c410>"
      ]
     },
     "execution_count": 20,
     "metadata": {},
     "output_type": "execute_result"
    },
    {
     "data": {
      "image/png": "[encoded data removed]",
      "text/plain": [
       "<Figure size 432x288 with 1 Axes>"
      ]
     },
     "metadata": {
      "needs_background": "light"
     },
     "output_type": "display_data"
    }
   ],
   "source": [
    "test = test_df.values.reshape(-1, 28, 28, 1)\n",
    "plt.imshow(test[0], cmap='gray')"
   ]
  },
  {
   "cell_type": "code",
   "execution_count": 21,
   "id": "f4fd6261",
   "metadata": {
    "execution": {
     "iopub.execute_input": "2023-01-06T09:29:47.078369Z",
     "iopub.status.busy": "2023-01-06T09:29:47.077249Z",
     "iopub.status.idle": "2023-01-06T09:29:49.234231Z",
     "shell.execute_reply": "2023-01-06T09:29:49.233204Z"
    },
    "papermill": {
     "duration": 2.282318,
     "end_time": "2023-01-06T09:29:49.236647",
     "exception": false,
     "start_time": "2023-01-06T09:29:46.954329",
     "status": "completed"
    },
    "tags": []
   },
   "outputs": [
    {
     "data": {
      "text/plain": [
       "(28000, 10)"
      ]
     },
     "execution_count": 21,
     "metadata": {},
     "output_type": "execute_result"
    }
   ],
   "source": [
    "\n",
    "test_preds = model.predict(test)\n",
    "test_preds.shape"
   ]
  },
  {
   "cell_type": "code",
   "execution_count": 22,
   "id": "a9efa5d6",
   "metadata": {
    "execution": {
     "iopub.execute_input": "2023-01-06T09:29:49.485285Z",
     "iopub.status.busy": "2023-01-06T09:29:49.484542Z",
     "iopub.status.idle": "2023-01-06T09:29:49.492168Z",
     "shell.execute_reply": "2023-01-06T09:29:49.491242Z"
    },
    "papermill": {
     "duration": 0.133851,
     "end_time": "2023-01-06T09:29:49.494278",
     "exception": false,
     "start_time": "2023-01-06T09:29:49.360427",
     "status": "completed"
    },
    "tags": []
   },
   "outputs": [
    {
     "data": {
      "text/plain": [
       "28000"
      ]
     },
     "execution_count": 22,
     "metadata": {},
     "output_type": "execute_result"
    }
   ],
   "source": [
    "test_labels = np.argmax(test_preds, axis=1)\n",
    "len(test_labels)"
   ]
  },
  {
   "cell_type": "code",
   "execution_count": 23,
   "id": "0ab4c9ea",
   "metadata": {
    "execution": {
     "iopub.execute_input": "2023-01-06T09:29:49.739329Z",
     "iopub.status.busy": "2023-01-06T09:29:49.738629Z",
     "iopub.status.idle": "2023-01-06T09:29:49.787771Z",
     "shell.execute_reply": "2023-01-06T09:29:49.786480Z"
    },
    "papermill": {
     "duration": 0.174501,
     "end_time": "2023-01-06T09:29:49.790479",
     "exception": false,
     "start_time": "2023-01-06T09:29:49.615978",
     "status": "completed"
    },
    "tags": []
   },
   "outputs": [],
   "source": [
    "ImageId = list(np.arange(1, test_df.shape[0]+1))\n",
    "test_submission = pd.DataFrame({\n",
    "    'ImageId': ImageId, \n",
    "    'Label': test_labels\n",
    "})\n",
    "test_submission.to_csv('submission.csv', index=False)"
   ]
  }
 ],
 "metadata": {
  "kernelspec": {
   "display_name": "Python 3 (ipykernel)",
   "language": "python",
   "name": "python3"
  },
  "language_info": {
   "codemirror_mode": {
    "name": "ipython",
    "version": 3
   },
   "file_extension": ".py",
   "mimetype": "text/x-python",
   "name": "python",
   "nbconvert_exporter": "python",
   "pygments_lexer": "ipython3",
   "version": "3.7.13"
  },
  "papermill": {
   "default_parameters": {},
   "duration": 137.296498,
   "end_time": "2023-01-06T09:29:53.014185",
   "environment_variables": {},
   "exception": null,
   "input_path": "__notebook__.ipynb",
   "output_path": "__notebook__.ipynb",
   "parameters": {},
   "start_time": "2023-01-06T09:27:35.717687",
   "version": "2.3.4"
  }
 },
 "nbformat": 4,
 "nbformat_minor": 5
}
